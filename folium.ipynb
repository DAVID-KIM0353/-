{
  "nbformat": 4,
  "nbformat_minor": 0,
  "metadata": {
    "colab": {
      "name": "folium.ipynb",
      "provenance": [],
      "collapsed_sections": [],
      "authorship_tag": "ABX9TyPZarP7hoL3OUncce5JFRHa",
      "include_colab_link": true
    },
    "kernelspec": {
      "name": "python3",
      "display_name": "Python 3"
    }
  },
  "cells": [
    {
      "cell_type": "markdown",
      "metadata": {
        "id": "view-in-github",
        "colab_type": "text"
      },
      "source": [
        "<a href=\"https://colab.research.google.com/github/Thing-ji/data_analysis_reference/blob/main/folium.ipynb\" target=\"_parent\"><img src=\"https://colab.research.google.com/assets/colab-badge.svg\" alt=\"Open In Colab\"/></a>"
      ]
    },
    {
      "cell_type": "code",
      "metadata": {
        "id": "DuQ25JfXcCPq",
        "colab": {
          "base_uri": "https://localhost:8080/",
          "height": 72
        },
        "outputId": "a9e43e47-fb5c-4342-a71b-17dd8f2f0700"
      },
      "source": [
        "import numpy as np\n",
        "import pandas as pd\n",
        "\n",
        "import os\n",
        "for dirname, _, filenames in os.walk('/kaggle/input'):\n",
        "  for filename in filenames:\n",
        "    print(os.path.join(dirname, filename))\n",
        "\n",
        "import seaborn as sns\n",
        "import matplotlib.pyplot as plt\n",
        "\n",
        "import folium\n",
        "from folium import plugins\n",
        "# from folium.plugins import HeatMap\n",
        "\n",
        "import json # json.org : 효율적으로 데이터를 저장하고 교환(exchange data)하는데 사용하는 텍스트 데이터 포맷\n",
        "from datetime import datetime \n",
        "\n",
        "import warnings\n",
        "warnings.filterwarnings('ignore')"
      ],
      "execution_count": null,
      "outputs": [
        {
          "output_type": "stream",
          "text": [
            "/usr/local/lib/python3.6/dist-packages/statsmodels/tools/_testing.py:19: FutureWarning: pandas.util.testing is deprecated. Use the functions in the public API at pandas.testing instead.\n",
            "  import pandas.util.testing as tm\n"
          ],
          "name": "stderr"
        }
      ]
    },
    {
      "cell_type": "code",
      "metadata": {
        "id": "94JACCrlc23f",
        "colab": {
          "base_uri": "https://localhost:8080/",
          "height": 407
        },
        "outputId": "c98d5158-fae6-4c1a-cb73-6f8540a0fc3c"
      },
      "source": [
        "patient = pd.read_csv('PatientInfo.csv')\n",
        "region = pd.read_csv('Region.csv')"
      ],
      "execution_count": null,
      "outputs": [
        {
          "output_type": "error",
          "ename": "FileNotFoundError",
          "evalue": "ignored",
          "traceback": [
            "\u001b[0;31m---------------------------------------------------------------------------\u001b[0m",
            "\u001b[0;31mFileNotFoundError\u001b[0m                         Traceback (most recent call last)",
            "\u001b[0;32m<ipython-input-2-6aa2215c1379>\u001b[0m in \u001b[0;36m<module>\u001b[0;34m()\u001b[0m\n\u001b[0;32m----> 1\u001b[0;31m \u001b[0mpatient\u001b[0m \u001b[0;34m=\u001b[0m \u001b[0mpd\u001b[0m\u001b[0;34m.\u001b[0m\u001b[0mread_csv\u001b[0m\u001b[0;34m(\u001b[0m\u001b[0;34m'PatientInfo.csv'\u001b[0m\u001b[0;34m)\u001b[0m\u001b[0;34m\u001b[0m\u001b[0;34m\u001b[0m\u001b[0m\n\u001b[0m\u001b[1;32m      2\u001b[0m \u001b[0mregion\u001b[0m \u001b[0;34m=\u001b[0m \u001b[0mpd\u001b[0m\u001b[0;34m.\u001b[0m\u001b[0mread_csv\u001b[0m\u001b[0;34m(\u001b[0m\u001b[0;34m'Region.csv'\u001b[0m\u001b[0;34m)\u001b[0m\u001b[0;34m\u001b[0m\u001b[0;34m\u001b[0m\u001b[0m\n",
            "\u001b[0;32m/usr/local/lib/python3.6/dist-packages/pandas/io/parsers.py\u001b[0m in \u001b[0;36mparser_f\u001b[0;34m(filepath_or_buffer, sep, delimiter, header, names, index_col, usecols, squeeze, prefix, mangle_dupe_cols, dtype, engine, converters, true_values, false_values, skipinitialspace, skiprows, skipfooter, nrows, na_values, keep_default_na, na_filter, verbose, skip_blank_lines, parse_dates, infer_datetime_format, keep_date_col, date_parser, dayfirst, cache_dates, iterator, chunksize, compression, thousands, decimal, lineterminator, quotechar, quoting, doublequote, escapechar, comment, encoding, dialect, error_bad_lines, warn_bad_lines, delim_whitespace, low_memory, memory_map, float_precision)\u001b[0m\n\u001b[1;32m    674\u001b[0m         )\n\u001b[1;32m    675\u001b[0m \u001b[0;34m\u001b[0m\u001b[0m\n\u001b[0;32m--> 676\u001b[0;31m         \u001b[0;32mreturn\u001b[0m \u001b[0m_read\u001b[0m\u001b[0;34m(\u001b[0m\u001b[0mfilepath_or_buffer\u001b[0m\u001b[0;34m,\u001b[0m \u001b[0mkwds\u001b[0m\u001b[0;34m)\u001b[0m\u001b[0;34m\u001b[0m\u001b[0;34m\u001b[0m\u001b[0m\n\u001b[0m\u001b[1;32m    677\u001b[0m \u001b[0;34m\u001b[0m\u001b[0m\n\u001b[1;32m    678\u001b[0m     \u001b[0mparser_f\u001b[0m\u001b[0;34m.\u001b[0m\u001b[0m__name__\u001b[0m \u001b[0;34m=\u001b[0m \u001b[0mname\u001b[0m\u001b[0;34m\u001b[0m\u001b[0;34m\u001b[0m\u001b[0m\n",
            "\u001b[0;32m/usr/local/lib/python3.6/dist-packages/pandas/io/parsers.py\u001b[0m in \u001b[0;36m_read\u001b[0;34m(filepath_or_buffer, kwds)\u001b[0m\n\u001b[1;32m    446\u001b[0m \u001b[0;34m\u001b[0m\u001b[0m\n\u001b[1;32m    447\u001b[0m     \u001b[0;31m# Create the parser.\u001b[0m\u001b[0;34m\u001b[0m\u001b[0;34m\u001b[0m\u001b[0;34m\u001b[0m\u001b[0m\n\u001b[0;32m--> 448\u001b[0;31m     \u001b[0mparser\u001b[0m \u001b[0;34m=\u001b[0m \u001b[0mTextFileReader\u001b[0m\u001b[0;34m(\u001b[0m\u001b[0mfp_or_buf\u001b[0m\u001b[0;34m,\u001b[0m \u001b[0;34m**\u001b[0m\u001b[0mkwds\u001b[0m\u001b[0;34m)\u001b[0m\u001b[0;34m\u001b[0m\u001b[0;34m\u001b[0m\u001b[0m\n\u001b[0m\u001b[1;32m    449\u001b[0m \u001b[0;34m\u001b[0m\u001b[0m\n\u001b[1;32m    450\u001b[0m     \u001b[0;32mif\u001b[0m \u001b[0mchunksize\u001b[0m \u001b[0;32mor\u001b[0m \u001b[0miterator\u001b[0m\u001b[0;34m:\u001b[0m\u001b[0;34m\u001b[0m\u001b[0;34m\u001b[0m\u001b[0m\n",
            "\u001b[0;32m/usr/local/lib/python3.6/dist-packages/pandas/io/parsers.py\u001b[0m in \u001b[0;36m__init__\u001b[0;34m(self, f, engine, **kwds)\u001b[0m\n\u001b[1;32m    878\u001b[0m             \u001b[0mself\u001b[0m\u001b[0;34m.\u001b[0m\u001b[0moptions\u001b[0m\u001b[0;34m[\u001b[0m\u001b[0;34m\"has_index_names\"\u001b[0m\u001b[0;34m]\u001b[0m \u001b[0;34m=\u001b[0m \u001b[0mkwds\u001b[0m\u001b[0;34m[\u001b[0m\u001b[0;34m\"has_index_names\"\u001b[0m\u001b[0;34m]\u001b[0m\u001b[0;34m\u001b[0m\u001b[0;34m\u001b[0m\u001b[0m\n\u001b[1;32m    879\u001b[0m \u001b[0;34m\u001b[0m\u001b[0m\n\u001b[0;32m--> 880\u001b[0;31m         \u001b[0mself\u001b[0m\u001b[0;34m.\u001b[0m\u001b[0m_make_engine\u001b[0m\u001b[0;34m(\u001b[0m\u001b[0mself\u001b[0m\u001b[0;34m.\u001b[0m\u001b[0mengine\u001b[0m\u001b[0;34m)\u001b[0m\u001b[0;34m\u001b[0m\u001b[0;34m\u001b[0m\u001b[0m\n\u001b[0m\u001b[1;32m    881\u001b[0m \u001b[0;34m\u001b[0m\u001b[0m\n\u001b[1;32m    882\u001b[0m     \u001b[0;32mdef\u001b[0m \u001b[0mclose\u001b[0m\u001b[0;34m(\u001b[0m\u001b[0mself\u001b[0m\u001b[0;34m)\u001b[0m\u001b[0;34m:\u001b[0m\u001b[0;34m\u001b[0m\u001b[0;34m\u001b[0m\u001b[0m\n",
            "\u001b[0;32m/usr/local/lib/python3.6/dist-packages/pandas/io/parsers.py\u001b[0m in \u001b[0;36m_make_engine\u001b[0;34m(self, engine)\u001b[0m\n\u001b[1;32m   1112\u001b[0m     \u001b[0;32mdef\u001b[0m \u001b[0m_make_engine\u001b[0m\u001b[0;34m(\u001b[0m\u001b[0mself\u001b[0m\u001b[0;34m,\u001b[0m \u001b[0mengine\u001b[0m\u001b[0;34m=\u001b[0m\u001b[0;34m\"c\"\u001b[0m\u001b[0;34m)\u001b[0m\u001b[0;34m:\u001b[0m\u001b[0;34m\u001b[0m\u001b[0;34m\u001b[0m\u001b[0m\n\u001b[1;32m   1113\u001b[0m         \u001b[0;32mif\u001b[0m \u001b[0mengine\u001b[0m \u001b[0;34m==\u001b[0m \u001b[0;34m\"c\"\u001b[0m\u001b[0;34m:\u001b[0m\u001b[0;34m\u001b[0m\u001b[0;34m\u001b[0m\u001b[0m\n\u001b[0;32m-> 1114\u001b[0;31m             \u001b[0mself\u001b[0m\u001b[0;34m.\u001b[0m\u001b[0m_engine\u001b[0m \u001b[0;34m=\u001b[0m \u001b[0mCParserWrapper\u001b[0m\u001b[0;34m(\u001b[0m\u001b[0mself\u001b[0m\u001b[0;34m.\u001b[0m\u001b[0mf\u001b[0m\u001b[0;34m,\u001b[0m \u001b[0;34m**\u001b[0m\u001b[0mself\u001b[0m\u001b[0;34m.\u001b[0m\u001b[0moptions\u001b[0m\u001b[0;34m)\u001b[0m\u001b[0;34m\u001b[0m\u001b[0;34m\u001b[0m\u001b[0m\n\u001b[0m\u001b[1;32m   1115\u001b[0m         \u001b[0;32melse\u001b[0m\u001b[0;34m:\u001b[0m\u001b[0;34m\u001b[0m\u001b[0;34m\u001b[0m\u001b[0m\n\u001b[1;32m   1116\u001b[0m             \u001b[0;32mif\u001b[0m \u001b[0mengine\u001b[0m \u001b[0;34m==\u001b[0m \u001b[0;34m\"python\"\u001b[0m\u001b[0;34m:\u001b[0m\u001b[0;34m\u001b[0m\u001b[0;34m\u001b[0m\u001b[0m\n",
            "\u001b[0;32m/usr/local/lib/python3.6/dist-packages/pandas/io/parsers.py\u001b[0m in \u001b[0;36m__init__\u001b[0;34m(self, src, **kwds)\u001b[0m\n\u001b[1;32m   1889\u001b[0m         \u001b[0mkwds\u001b[0m\u001b[0;34m[\u001b[0m\u001b[0;34m\"usecols\"\u001b[0m\u001b[0;34m]\u001b[0m \u001b[0;34m=\u001b[0m \u001b[0mself\u001b[0m\u001b[0;34m.\u001b[0m\u001b[0musecols\u001b[0m\u001b[0;34m\u001b[0m\u001b[0;34m\u001b[0m\u001b[0m\n\u001b[1;32m   1890\u001b[0m \u001b[0;34m\u001b[0m\u001b[0m\n\u001b[0;32m-> 1891\u001b[0;31m         \u001b[0mself\u001b[0m\u001b[0;34m.\u001b[0m\u001b[0m_reader\u001b[0m \u001b[0;34m=\u001b[0m \u001b[0mparsers\u001b[0m\u001b[0;34m.\u001b[0m\u001b[0mTextReader\u001b[0m\u001b[0;34m(\u001b[0m\u001b[0msrc\u001b[0m\u001b[0;34m,\u001b[0m \u001b[0;34m**\u001b[0m\u001b[0mkwds\u001b[0m\u001b[0;34m)\u001b[0m\u001b[0;34m\u001b[0m\u001b[0;34m\u001b[0m\u001b[0m\n\u001b[0m\u001b[1;32m   1892\u001b[0m         \u001b[0mself\u001b[0m\u001b[0;34m.\u001b[0m\u001b[0munnamed_cols\u001b[0m \u001b[0;34m=\u001b[0m \u001b[0mself\u001b[0m\u001b[0;34m.\u001b[0m\u001b[0m_reader\u001b[0m\u001b[0;34m.\u001b[0m\u001b[0munnamed_cols\u001b[0m\u001b[0;34m\u001b[0m\u001b[0;34m\u001b[0m\u001b[0m\n\u001b[1;32m   1893\u001b[0m \u001b[0;34m\u001b[0m\u001b[0m\n",
            "\u001b[0;32mpandas/_libs/parsers.pyx\u001b[0m in \u001b[0;36mpandas._libs.parsers.TextReader.__cinit__\u001b[0;34m()\u001b[0m\n",
            "\u001b[0;32mpandas/_libs/parsers.pyx\u001b[0m in \u001b[0;36mpandas._libs.parsers.TextReader._setup_parser_source\u001b[0;34m()\u001b[0m\n",
            "\u001b[0;31mFileNotFoundError\u001b[0m: [Errno 2] File PatientInfo.csv does not exist: 'PatientInfo.csv'"
          ]
        }
      ]
    },
    {
      "cell_type": "code",
      "metadata": {
        "id": "Nrr0Jux3nKlD"
      },
      "source": [
        "patient"
      ],
      "execution_count": null,
      "outputs": []
    },
    {
      "cell_type": "code",
      "metadata": {
        "id": "YfNtP98vdn8h"
      },
      "source": [
        "#patient.head()"
      ],
      "execution_count": null,
      "outputs": []
    },
    {
      "cell_type": "code",
      "metadata": {
        "id": "kqaQqTAvdqhZ"
      },
      "source": [
        "#egion.head()"
      ],
      "execution_count": null,
      "outputs": []
    },
    {
      "cell_type": "markdown",
      "metadata": {
        "id": "tu6zD2ixdze9"
      },
      "source": [
        "# 1. plotting just a map (제일 먼저, 그냥 지도 띄우기)\n"
      ]
    },
    {
      "cell_type": "code",
      "metadata": {
        "id": "xqWPha6Mdtuv",
        "colab": {
          "base_uri": "https://localhost:8080/",
          "height": 394
        },
        "outputId": "b951b1fd-609d-4b31-a439-7ce2319bdec8"
      },
      "source": [
        "center = [37, 128]\n",
        "folium.Map(location = center, zoom_start = 7, tiles = 'Stamen Terrain')\n",
        "#folium.Map(location = center, zoom_start = 7, tiles = 'Stamen Toner')"
      ],
      "execution_count": null,
      "outputs": [
        {
          "output_type": "execute_result",
          "data": {
            "text/html": [
              "<div style=\"width:100%;\"><div style=\"position:relative;width:100%;height:0;padding-bottom:60%;\"><span style=\"color:#565656\">Make this Notebook Trusted to load map: File -> Trust Notebook</span><iframe src=\"about:blank\" style=\"position:absolute;width:100%;height:100%;left:0;top:0;border:none !important;\" data-html=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 onload=\"this.contentDocument.open();this.contentDocument.write(atob(this.getAttribute('data-html')));this.contentDocument.close();\" allowfullscreen webkitallowfullscreen mozallowfullscreen></iframe></div></div>"
            ],
            "text/plain": [
              "<folium.folium.Map at 0x7f12d1cc1ac8>"
            ]
          },
          "metadata": {
            "tags": []
          },
          "execution_count": 6
        }
      ]
    },
    {
      "cell_type": "markdown",
      "metadata": {
        "id": "SHEHclS-fzWD"
      },
      "source": [
        "There are several types of map, default, Stamen Terrain, and Stamen Toner."
      ]
    },
    {
      "cell_type": "code",
      "metadata": {
        "id": "5esfz4QxeZHC",
        "colab": {
          "base_uri": "https://localhost:8080/",
          "height": 394
        },
        "outputId": "715c9f79-b360-4a77-cac5-ab4dc6da3ce0"
      },
      "source": [
        "m = folium.Map([36, 128], zoom_start = 7)\n",
        "m # this map is default style"
      ],
      "execution_count": null,
      "outputs": [
        {
          "output_type": "execute_result",
          "data": {
            "text/html": [
              "<div style=\"width:100%;\"><div style=\"position:relative;width:100%;height:0;padding-bottom:60%;\"><span style=\"color:#565656\">Make this Notebook Trusted to load map: File -> Trust Notebook</span><iframe src=\"about:blank\" style=\"position:absolute;width:100%;height:100%;left:0;top:0;border:none !important;\" data-html=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 onload=\"this.contentDocument.open();this.contentDocument.write(atob(this.getAttribute('data-html')));this.contentDocument.close();\" allowfullscreen webkitallowfullscreen mozallowfullscreen></iframe></div></div>"
            ],
            "text/plain": [
              "<folium.folium.Map at 0x7f12d1cc1b70>"
            ]
          },
          "metadata": {
            "tags": []
          },
          "execution_count": 7
        }
      ]
    },
    {
      "cell_type": "markdown",
      "metadata": {
        "id": "qqWujWgChSLp"
      },
      "source": [
        "Additional tool : Fullscreen, MousePosition(get coodinates)\n",
        "\n",
        "추가 기능: 풀스크린으로 만들기, 마우스 갖다대면 좌표드게 하기.\n"
      ]
    },
    {
      "cell_type": "code",
      "metadata": {
        "id": "j-Gq4whWgqIG",
        "colab": {
          "base_uri": "https://localhost:8080/",
          "height": 35
        },
        "outputId": "0f919964-13e8-43bb-e076-794a41139637"
      },
      "source": [
        "center = [36, 128]\n",
        "m = folium.Map(location = center, zoom_start = 7)\n",
        "\n",
        "plugins.Fullscreen(position = 'topright',  # Full screen\n",
        "                   title = 'Click to Expand',\n",
        "                   title_cancel = 'Click to Exit',\n",
        "                   force_separate_button = True).add_to(m)\n",
        "\n",
        "plugins.MousePosition().add_to(m) ## you can easily get coordinates (쉽게 좌표를 얻을 수 있음)"
      ],
      "execution_count": null,
      "outputs": [
        {
          "output_type": "execute_result",
          "data": {
            "text/plain": [
              "<folium.plugins.mouse_position.MousePosition at 0x7f12d1c87470>"
            ]
          },
          "metadata": {
            "tags": []
          },
          "execution_count": 8
        }
      ]
    },
    {
      "cell_type": "code",
      "metadata": {
        "id": "Emn7fC4GiUXw",
        "colab": {
          "base_uri": "https://localhost:8080/",
          "height": 394
        },
        "outputId": "02ee0d4c-71b4-48a7-f196-d7c6182b318e"
      },
      "source": [
        "m"
      ],
      "execution_count": null,
      "outputs": [
        {
          "output_type": "execute_result",
          "data": {
            "text/html": [
              "<div style=\"width:100%;\"><div style=\"position:relative;width:100%;height:0;padding-bottom:60%;\"><span style=\"color:#565656\">Make this Notebook Trusted to load map: File -> Trust Notebook</span><iframe src=\"about:blank\" style=\"position:absolute;width:100%;height:100%;left:0;top:0;border:none !important;\" data-html=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 onload=\"this.contentDocument.open();this.contentDocument.write(atob(this.getAttribute('data-html')));this.contentDocument.close();\" allowfullscreen webkitallowfullscreen mozallowfullscreen></iframe></div></div>"
            ],
            "text/plain": [
              "<folium.folium.Map at 0x7f12d1c87198>"
            ]
          },
          "metadata": {
            "tags": []
          },
          "execution_count": 9
        }
      ]
    },
    {
      "cell_type": "markdown",
      "metadata": {
        "id": "wNpIAjcBie-d"
      },
      "source": [
        "# 2. MarkerCluster : Lets see the number of regional confirmed patient.\n",
        "\n",
        "지역별로 몇명의 확진 환자가 나왔는지 한번 확인해보자."
      ]
    },
    {
      "cell_type": "code",
      "metadata": {
        "id": "wZGBRfeuiu5C",
        "colab": {
          "base_uri": "https://localhost:8080/",
          "height": 292
        },
        "outputId": "e8a68aef-3073-426b-9bdc-368dd9170d86"
      },
      "source": [
        "patient.head()"
      ],
      "execution_count": null,
      "outputs": [
        {
          "output_type": "execute_result",
          "data": {
            "text/html": [
              "<div>\n",
              "<style scoped>\n",
              "    .dataframe tbody tr th:only-of-type {\n",
              "        vertical-align: middle;\n",
              "    }\n",
              "\n",
              "    .dataframe tbody tr th {\n",
              "        vertical-align: top;\n",
              "    }\n",
              "\n",
              "    .dataframe thead th {\n",
              "        text-align: right;\n",
              "    }\n",
              "</style>\n",
              "<table border=\"1\" class=\"dataframe\">\n",
              "  <thead>\n",
              "    <tr style=\"text-align: right;\">\n",
              "      <th></th>\n",
              "      <th>patient_id</th>\n",
              "      <th>sex</th>\n",
              "      <th>age</th>\n",
              "      <th>country</th>\n",
              "      <th>province</th>\n",
              "      <th>city</th>\n",
              "      <th>infection_case</th>\n",
              "      <th>infected_by</th>\n",
              "      <th>contact_number</th>\n",
              "      <th>symptom_onset_date</th>\n",
              "      <th>confirmed_date</th>\n",
              "      <th>released_date</th>\n",
              "      <th>deceased_date</th>\n",
              "      <th>state</th>\n",
              "    </tr>\n",
              "  </thead>\n",
              "  <tbody>\n",
              "    <tr>\n",
              "      <th>0</th>\n",
              "      <td>1000000001</td>\n",
              "      <td>male</td>\n",
              "      <td>50s</td>\n",
              "      <td>Korea</td>\n",
              "      <td>Seoul</td>\n",
              "      <td>Gangseo-gu</td>\n",
              "      <td>overseas inflow</td>\n",
              "      <td>NaN</td>\n",
              "      <td>75</td>\n",
              "      <td>2020-01-22</td>\n",
              "      <td>2020-01-23</td>\n",
              "      <td>2020-02-05</td>\n",
              "      <td>NaN</td>\n",
              "      <td>released</td>\n",
              "    </tr>\n",
              "    <tr>\n",
              "      <th>1</th>\n",
              "      <td>1000000002</td>\n",
              "      <td>male</td>\n",
              "      <td>30s</td>\n",
              "      <td>Korea</td>\n",
              "      <td>Seoul</td>\n",
              "      <td>Jungnang-gu</td>\n",
              "      <td>overseas inflow</td>\n",
              "      <td>NaN</td>\n",
              "      <td>31</td>\n",
              "      <td>NaN</td>\n",
              "      <td>2020-01-30</td>\n",
              "      <td>2020-03-02</td>\n",
              "      <td>NaN</td>\n",
              "      <td>released</td>\n",
              "    </tr>\n",
              "    <tr>\n",
              "      <th>2</th>\n",
              "      <td>1000000003</td>\n",
              "      <td>male</td>\n",
              "      <td>50s</td>\n",
              "      <td>Korea</td>\n",
              "      <td>Seoul</td>\n",
              "      <td>Jongno-gu</td>\n",
              "      <td>contact with patient</td>\n",
              "      <td>2002000001</td>\n",
              "      <td>17</td>\n",
              "      <td>NaN</td>\n",
              "      <td>2020-01-30</td>\n",
              "      <td>2020-02-19</td>\n",
              "      <td>NaN</td>\n",
              "      <td>released</td>\n",
              "    </tr>\n",
              "    <tr>\n",
              "      <th>3</th>\n",
              "      <td>1000000004</td>\n",
              "      <td>male</td>\n",
              "      <td>20s</td>\n",
              "      <td>Korea</td>\n",
              "      <td>Seoul</td>\n",
              "      <td>Mapo-gu</td>\n",
              "      <td>overseas inflow</td>\n",
              "      <td>NaN</td>\n",
              "      <td>9</td>\n",
              "      <td>2020-01-26</td>\n",
              "      <td>2020-01-30</td>\n",
              "      <td>2020-02-15</td>\n",
              "      <td>NaN</td>\n",
              "      <td>released</td>\n",
              "    </tr>\n",
              "    <tr>\n",
              "      <th>4</th>\n",
              "      <td>1000000005</td>\n",
              "      <td>female</td>\n",
              "      <td>20s</td>\n",
              "      <td>Korea</td>\n",
              "      <td>Seoul</td>\n",
              "      <td>Seongbuk-gu</td>\n",
              "      <td>contact with patient</td>\n",
              "      <td>1000000002</td>\n",
              "      <td>2</td>\n",
              "      <td>NaN</td>\n",
              "      <td>2020-01-31</td>\n",
              "      <td>2020-02-24</td>\n",
              "      <td>NaN</td>\n",
              "      <td>released</td>\n",
              "    </tr>\n",
              "  </tbody>\n",
              "</table>\n",
              "</div>"
            ],
            "text/plain": [
              "   patient_id     sex  age  ... released_date deceased_date     state\n",
              "0  1000000001    male  50s  ...    2020-02-05           NaN  released\n",
              "1  1000000002    male  30s  ...    2020-03-02           NaN  released\n",
              "2  1000000003    male  50s  ...    2020-02-19           NaN  released\n",
              "3  1000000004    male  20s  ...    2020-02-15           NaN  released\n",
              "4  1000000005  female  20s  ...    2020-02-24           NaN  released\n",
              "\n",
              "[5 rows x 14 columns]"
            ]
          },
          "metadata": {
            "tags": []
          },
          "execution_count": 10
        }
      ]
    },
    {
      "cell_type": "code",
      "metadata": {
        "id": "A3xQFADulKTP",
        "colab": {
          "base_uri": "https://localhost:8080/",
          "height": 292
        },
        "outputId": "20b0f474-da74-42ff-fc3b-64a80bae3394"
      },
      "source": [
        "region.head()"
      ],
      "execution_count": null,
      "outputs": [
        {
          "output_type": "execute_result",
          "data": {
            "text/html": [
              "<div>\n",
              "<style scoped>\n",
              "    .dataframe tbody tr th:only-of-type {\n",
              "        vertical-align: middle;\n",
              "    }\n",
              "\n",
              "    .dataframe tbody tr th {\n",
              "        vertical-align: top;\n",
              "    }\n",
              "\n",
              "    .dataframe thead th {\n",
              "        text-align: right;\n",
              "    }\n",
              "</style>\n",
              "<table border=\"1\" class=\"dataframe\">\n",
              "  <thead>\n",
              "    <tr style=\"text-align: right;\">\n",
              "      <th></th>\n",
              "      <th>code</th>\n",
              "      <th>province</th>\n",
              "      <th>city</th>\n",
              "      <th>latitude</th>\n",
              "      <th>longitude</th>\n",
              "      <th>elementary_school_count</th>\n",
              "      <th>kindergarten_count</th>\n",
              "      <th>university_count</th>\n",
              "      <th>academy_ratio</th>\n",
              "      <th>elderly_population_ratio</th>\n",
              "      <th>elderly_alone_ratio</th>\n",
              "      <th>nursing_home_count</th>\n",
              "    </tr>\n",
              "  </thead>\n",
              "  <tbody>\n",
              "    <tr>\n",
              "      <th>0</th>\n",
              "      <td>10000</td>\n",
              "      <td>Seoul</td>\n",
              "      <td>Seoul</td>\n",
              "      <td>37.566953</td>\n",
              "      <td>126.977977</td>\n",
              "      <td>607</td>\n",
              "      <td>830</td>\n",
              "      <td>48</td>\n",
              "      <td>1.44</td>\n",
              "      <td>15.38</td>\n",
              "      <td>5.8</td>\n",
              "      <td>22739</td>\n",
              "    </tr>\n",
              "    <tr>\n",
              "      <th>1</th>\n",
              "      <td>10010</td>\n",
              "      <td>Seoul</td>\n",
              "      <td>Gangnam-gu</td>\n",
              "      <td>37.518421</td>\n",
              "      <td>127.047222</td>\n",
              "      <td>33</td>\n",
              "      <td>38</td>\n",
              "      <td>0</td>\n",
              "      <td>4.18</td>\n",
              "      <td>13.17</td>\n",
              "      <td>4.3</td>\n",
              "      <td>3088</td>\n",
              "    </tr>\n",
              "    <tr>\n",
              "      <th>2</th>\n",
              "      <td>10020</td>\n",
              "      <td>Seoul</td>\n",
              "      <td>Gangdong-gu</td>\n",
              "      <td>37.530492</td>\n",
              "      <td>127.123837</td>\n",
              "      <td>27</td>\n",
              "      <td>32</td>\n",
              "      <td>0</td>\n",
              "      <td>1.54</td>\n",
              "      <td>14.55</td>\n",
              "      <td>5.4</td>\n",
              "      <td>1023</td>\n",
              "    </tr>\n",
              "    <tr>\n",
              "      <th>3</th>\n",
              "      <td>10030</td>\n",
              "      <td>Seoul</td>\n",
              "      <td>Gangbuk-gu</td>\n",
              "      <td>37.639938</td>\n",
              "      <td>127.025508</td>\n",
              "      <td>14</td>\n",
              "      <td>21</td>\n",
              "      <td>0</td>\n",
              "      <td>0.67</td>\n",
              "      <td>19.49</td>\n",
              "      <td>8.5</td>\n",
              "      <td>628</td>\n",
              "    </tr>\n",
              "    <tr>\n",
              "      <th>4</th>\n",
              "      <td>10040</td>\n",
              "      <td>Seoul</td>\n",
              "      <td>Gangseo-gu</td>\n",
              "      <td>37.551166</td>\n",
              "      <td>126.849506</td>\n",
              "      <td>36</td>\n",
              "      <td>56</td>\n",
              "      <td>1</td>\n",
              "      <td>1.17</td>\n",
              "      <td>14.39</td>\n",
              "      <td>5.7</td>\n",
              "      <td>1080</td>\n",
              "    </tr>\n",
              "  </tbody>\n",
              "</table>\n",
              "</div>"
            ],
            "text/plain": [
              "    code province  ... elderly_alone_ratio  nursing_home_count\n",
              "0  10000    Seoul  ...                 5.8               22739\n",
              "1  10010    Seoul  ...                 4.3                3088\n",
              "2  10020    Seoul  ...                 5.4                1023\n",
              "3  10030    Seoul  ...                 8.5                 628\n",
              "4  10040    Seoul  ...                 5.7                1080\n",
              "\n",
              "[5 rows x 12 columns]"
            ]
          },
          "metadata": {
            "tags": []
          },
          "execution_count": 11
        }
      ]
    },
    {
      "cell_type": "code",
      "metadata": {
        "id": "HawolK-cidat",
        "colab": {
          "base_uri": "https://localhost:8080/",
          "height": 473
        },
        "outputId": "5f2d01a0-30c4-40ad-e39a-6a6cc94dd133"
      },
      "source": [
        "regional_patient = pd.merge(patient[['patient_id','confirmed_date', 'sex', 'age', 'province', 'city']],\n",
        "                            region[['province', 'city', 'latitude', 'longitude']], how = 'left', on = ['province', 'city'])\n",
        "display(regional_patient.head())\n",
        "print('There are a few missing values')\n",
        "print('약간의 missing 값들이 있다. 분석할 때 유의해야할 것 같다.')\n",
        "display(regional_patient.isnull().sum()/regional_patient.shape[0])"
      ],
      "execution_count": null,
      "outputs": [
        {
          "output_type": "display_data",
          "data": {
            "text/html": [
              "<div>\n",
              "<style scoped>\n",
              "    .dataframe tbody tr th:only-of-type {\n",
              "        vertical-align: middle;\n",
              "    }\n",
              "\n",
              "    .dataframe tbody tr th {\n",
              "        vertical-align: top;\n",
              "    }\n",
              "\n",
              "    .dataframe thead th {\n",
              "        text-align: right;\n",
              "    }\n",
              "</style>\n",
              "<table border=\"1\" class=\"dataframe\">\n",
              "  <thead>\n",
              "    <tr style=\"text-align: right;\">\n",
              "      <th></th>\n",
              "      <th>patient_id</th>\n",
              "      <th>confirmed_date</th>\n",
              "      <th>sex</th>\n",
              "      <th>age</th>\n",
              "      <th>province</th>\n",
              "      <th>city</th>\n",
              "      <th>latitude</th>\n",
              "      <th>longitude</th>\n",
              "    </tr>\n",
              "  </thead>\n",
              "  <tbody>\n",
              "    <tr>\n",
              "      <th>0</th>\n",
              "      <td>1000000001</td>\n",
              "      <td>2020-01-23</td>\n",
              "      <td>male</td>\n",
              "      <td>50s</td>\n",
              "      <td>Seoul</td>\n",
              "      <td>Gangseo-gu</td>\n",
              "      <td>37.551166</td>\n",
              "      <td>126.849506</td>\n",
              "    </tr>\n",
              "    <tr>\n",
              "      <th>1</th>\n",
              "      <td>1000000002</td>\n",
              "      <td>2020-01-30</td>\n",
              "      <td>male</td>\n",
              "      <td>30s</td>\n",
              "      <td>Seoul</td>\n",
              "      <td>Jungnang-gu</td>\n",
              "      <td>37.606832</td>\n",
              "      <td>127.092656</td>\n",
              "    </tr>\n",
              "    <tr>\n",
              "      <th>2</th>\n",
              "      <td>1000000003</td>\n",
              "      <td>2020-01-30</td>\n",
              "      <td>male</td>\n",
              "      <td>50s</td>\n",
              "      <td>Seoul</td>\n",
              "      <td>Jongno-gu</td>\n",
              "      <td>37.572999</td>\n",
              "      <td>126.979189</td>\n",
              "    </tr>\n",
              "    <tr>\n",
              "      <th>3</th>\n",
              "      <td>1000000004</td>\n",
              "      <td>2020-01-30</td>\n",
              "      <td>male</td>\n",
              "      <td>20s</td>\n",
              "      <td>Seoul</td>\n",
              "      <td>Mapo-gu</td>\n",
              "      <td>37.566283</td>\n",
              "      <td>126.901644</td>\n",
              "    </tr>\n",
              "    <tr>\n",
              "      <th>4</th>\n",
              "      <td>1000000005</td>\n",
              "      <td>2020-01-31</td>\n",
              "      <td>female</td>\n",
              "      <td>20s</td>\n",
              "      <td>Seoul</td>\n",
              "      <td>Seongbuk-gu</td>\n",
              "      <td>37.589562</td>\n",
              "      <td>127.016700</td>\n",
              "    </tr>\n",
              "  </tbody>\n",
              "</table>\n",
              "</div>"
            ],
            "text/plain": [
              "   patient_id confirmed_date     sex  ...         city   latitude   longitude\n",
              "0  1000000001     2020-01-23    male  ...   Gangseo-gu  37.551166  126.849506\n",
              "1  1000000002     2020-01-30    male  ...  Jungnang-gu  37.606832  127.092656\n",
              "2  1000000003     2020-01-30    male  ...    Jongno-gu  37.572999  126.979189\n",
              "3  1000000004     2020-01-30    male  ...      Mapo-gu  37.566283  126.901644\n",
              "4  1000000005     2020-01-31  female  ...  Seongbuk-gu  37.589562  127.016700\n",
              "\n",
              "[5 rows x 8 columns]"
            ]
          },
          "metadata": {
            "tags": []
          }
        },
        {
          "output_type": "stream",
          "text": [
            "There are a few missing values\n",
            "약간의 missing 값들이 있다. 분석할 때 유의해야할 것 같다.\n"
          ],
          "name": "stdout"
        },
        {
          "output_type": "display_data",
          "data": {
            "text/plain": [
              "patient_id        0.000000\n",
              "confirmed_date    0.000581\n",
              "sex               0.217231\n",
              "age               0.267183\n",
              "province          0.000000\n",
              "city              0.018199\n",
              "latitude          0.042401\n",
              "longitude         0.042401\n",
              "dtype: float64"
            ]
          },
          "metadata": {
            "tags": []
          }
        }
      ]
    },
    {
      "cell_type": "code",
      "metadata": {
        "id": "1iyz7o3Mo6qv"
      },
      "source": [
        "import sys\n",
        "sys.setrecursionlimit(1500)"
      ],
      "execution_count": null,
      "outputs": []
    },
    {
      "cell_type": "code",
      "metadata": {
        "id": "6eGob_Y9nSHJ",
        "colab": {
          "base_uri": "https://localhost:8080/",
          "height": 430
        },
        "outputId": "c141cef4-2896-421c-bc37-67256ea12b55"
      },
      "source": [
        "regional_count = regional_patient[['latitude', 'longitude']].dropna() # drop missing values\n",
        "\n",
        "m = folium.Map(location = center, zoom_start = 7)\n",
        "\n",
        "plugins.MousePosition().add_to(m)\n",
        "plugins.MarkerCluster(regional_count).add_to(m) # 재귀한계 문제걸림. 해결하기.\n",
        "\n",
        "m"
      ],
      "execution_count": null,
      "outputs": [
        {
          "output_type": "error",
          "ename": "RecursionError",
          "evalue": "ignored",
          "traceback": [
            "\u001b[0;31m---------------------------------------------------------------------------\u001b[0m",
            "\u001b[0;31mRecursionError\u001b[0m                            Traceback (most recent call last)",
            "\u001b[0;32m<ipython-input-16-57af4bcb4d16>\u001b[0m in \u001b[0;36m<module>\u001b[0;34m()\u001b[0m\n\u001b[1;32m      4\u001b[0m \u001b[0;34m\u001b[0m\u001b[0m\n\u001b[1;32m      5\u001b[0m \u001b[0mplugins\u001b[0m\u001b[0;34m.\u001b[0m\u001b[0mMousePosition\u001b[0m\u001b[0;34m(\u001b[0m\u001b[0;34m)\u001b[0m\u001b[0;34m.\u001b[0m\u001b[0madd_to\u001b[0m\u001b[0;34m(\u001b[0m\u001b[0mm\u001b[0m\u001b[0;34m)\u001b[0m\u001b[0;34m\u001b[0m\u001b[0;34m\u001b[0m\u001b[0m\n\u001b[0;32m----> 6\u001b[0;31m \u001b[0mplugins\u001b[0m\u001b[0;34m.\u001b[0m\u001b[0mMarkerCluster\u001b[0m\u001b[0;34m(\u001b[0m\u001b[0mregional_count\u001b[0m\u001b[0;34m)\u001b[0m\u001b[0;34m.\u001b[0m\u001b[0madd_to\u001b[0m\u001b[0;34m(\u001b[0m\u001b[0mm\u001b[0m\u001b[0;34m)\u001b[0m\u001b[0;34m\u001b[0m\u001b[0;34m\u001b[0m\u001b[0m\n\u001b[0m\u001b[1;32m      7\u001b[0m \u001b[0;34m\u001b[0m\u001b[0m\n\u001b[1;32m      8\u001b[0m \u001b[0mm\u001b[0m\u001b[0;34m\u001b[0m\u001b[0;34m\u001b[0m\u001b[0m\n",
            "\u001b[0;32m/usr/local/lib/python3.6/dist-packages/folium/plugins/marker_cluster.py\u001b[0m in \u001b[0;36m__init__\u001b[0;34m(self, locations, popups, icons, name, overlay, control, show, icon_create_function, options)\u001b[0m\n\u001b[1;32m     76\u001b[0m                 \u001b[0mp\u001b[0m \u001b[0;34m=\u001b[0m \u001b[0mpopup\u001b[0m \u001b[0;32mif\u001b[0m \u001b[0mself\u001b[0m\u001b[0;34m.\u001b[0m\u001b[0m_validate\u001b[0m\u001b[0;34m(\u001b[0m\u001b[0mpopup\u001b[0m\u001b[0;34m,\u001b[0m \u001b[0mPopup\u001b[0m\u001b[0;34m)\u001b[0m \u001b[0;32melse\u001b[0m \u001b[0mPopup\u001b[0m\u001b[0;34m(\u001b[0m\u001b[0mpopup\u001b[0m\u001b[0;34m)\u001b[0m\u001b[0;34m\u001b[0m\u001b[0;34m\u001b[0m\u001b[0m\n\u001b[1;32m     77\u001b[0m                 \u001b[0mi\u001b[0m \u001b[0;34m=\u001b[0m \u001b[0micon\u001b[0m \u001b[0;32mif\u001b[0m \u001b[0mself\u001b[0m\u001b[0;34m.\u001b[0m\u001b[0m_validate\u001b[0m\u001b[0;34m(\u001b[0m\u001b[0micon\u001b[0m\u001b[0;34m,\u001b[0m \u001b[0mIcon\u001b[0m\u001b[0;34m)\u001b[0m \u001b[0;32melse\u001b[0m \u001b[0mIcon\u001b[0m\u001b[0;34m(\u001b[0m\u001b[0micon\u001b[0m\u001b[0;34m)\u001b[0m\u001b[0;34m\u001b[0m\u001b[0;34m\u001b[0m\u001b[0m\n\u001b[0;32m---> 78\u001b[0;31m                 \u001b[0mself\u001b[0m\u001b[0;34m.\u001b[0m\u001b[0madd_child\u001b[0m\u001b[0;34m(\u001b[0m\u001b[0mMarker\u001b[0m\u001b[0;34m(\u001b[0m\u001b[0mlocation\u001b[0m\u001b[0;34m,\u001b[0m \u001b[0mpopup\u001b[0m\u001b[0;34m=\u001b[0m\u001b[0mp\u001b[0m\u001b[0;34m,\u001b[0m \u001b[0micon\u001b[0m\u001b[0;34m=\u001b[0m\u001b[0mi\u001b[0m\u001b[0;34m)\u001b[0m\u001b[0;34m)\u001b[0m\u001b[0;34m\u001b[0m\u001b[0;34m\u001b[0m\u001b[0m\n\u001b[0m\u001b[1;32m     79\u001b[0m \u001b[0;34m\u001b[0m\u001b[0m\n\u001b[1;32m     80\u001b[0m         \u001b[0moptions\u001b[0m \u001b[0;34m=\u001b[0m \u001b[0;34m{\u001b[0m\u001b[0;34m}\u001b[0m \u001b[0;32mif\u001b[0m \u001b[0moptions\u001b[0m \u001b[0;32mis\u001b[0m \u001b[0;32mNone\u001b[0m \u001b[0;32melse\u001b[0m \u001b[0moptions\u001b[0m\u001b[0;34m\u001b[0m\u001b[0;34m\u001b[0m\u001b[0m\n",
            "\u001b[0;32m/usr/local/lib/python3.6/dist-packages/folium/map.py\u001b[0m in \u001b[0;36m__init__\u001b[0;34m(self, location, popup, tooltip, icon, draggable)\u001b[0m\n\u001b[1;32m    256\u001b[0m         \u001b[0msuper\u001b[0m\u001b[0;34m(\u001b[0m\u001b[0mMarker\u001b[0m\u001b[0;34m,\u001b[0m \u001b[0mself\u001b[0m\u001b[0;34m)\u001b[0m\u001b[0;34m.\u001b[0m\u001b[0m__init__\u001b[0m\u001b[0;34m(\u001b[0m\u001b[0;34m)\u001b[0m\u001b[0;34m\u001b[0m\u001b[0;34m\u001b[0m\u001b[0m\n\u001b[1;32m    257\u001b[0m         \u001b[0mself\u001b[0m\u001b[0;34m.\u001b[0m\u001b[0m_name\u001b[0m \u001b[0;34m=\u001b[0m \u001b[0;34m'Marker'\u001b[0m\u001b[0;34m\u001b[0m\u001b[0;34m\u001b[0m\u001b[0m\n\u001b[0;32m--> 258\u001b[0;31m         \u001b[0mself\u001b[0m\u001b[0;34m.\u001b[0m\u001b[0mlocation\u001b[0m \u001b[0;34m=\u001b[0m \u001b[0m_validate_coordinates\u001b[0m\u001b[0;34m(\u001b[0m\u001b[0mlocation\u001b[0m\u001b[0;34m)\u001b[0m\u001b[0;34m\u001b[0m\u001b[0;34m\u001b[0m\u001b[0m\n\u001b[0m\u001b[1;32m    259\u001b[0m         \u001b[0mself\u001b[0m\u001b[0;34m.\u001b[0m\u001b[0mdraggable\u001b[0m \u001b[0;34m=\u001b[0m \u001b[0mdraggable\u001b[0m\u001b[0;34m\u001b[0m\u001b[0;34m\u001b[0m\u001b[0m\n\u001b[1;32m    260\u001b[0m         \u001b[0;32mif\u001b[0m \u001b[0micon\u001b[0m \u001b[0;32mis\u001b[0m \u001b[0;32mnot\u001b[0m \u001b[0;32mNone\u001b[0m\u001b[0;34m:\u001b[0m\u001b[0;34m\u001b[0m\u001b[0;34m\u001b[0m\u001b[0m\n",
            "\u001b[0;32m/usr/local/lib/python3.6/dist-packages/folium/utilities.py\u001b[0m in \u001b[0;36m_validate_coordinates\u001b[0;34m(coordinates)\u001b[0m\n\u001b[1;32m     51\u001b[0m \u001b[0;32mdef\u001b[0m \u001b[0m_validate_coordinates\u001b[0m\u001b[0;34m(\u001b[0m\u001b[0mcoordinates\u001b[0m\u001b[0;34m)\u001b[0m\u001b[0;34m:\u001b[0m\u001b[0;34m\u001b[0m\u001b[0;34m\u001b[0m\u001b[0m\n\u001b[1;32m     52\u001b[0m     \u001b[0;34m\"\"\"Validates multiple coordinates for the various markers in folium.\"\"\"\u001b[0m\u001b[0;34m\u001b[0m\u001b[0;34m\u001b[0m\u001b[0m\n\u001b[0;32m---> 53\u001b[0;31m     \u001b[0;32mif\u001b[0m \u001b[0m_isnan\u001b[0m\u001b[0;34m(\u001b[0m\u001b[0mcoordinates\u001b[0m\u001b[0;34m)\u001b[0m\u001b[0;34m:\u001b[0m\u001b[0;34m\u001b[0m\u001b[0;34m\u001b[0m\u001b[0m\n\u001b[0m\u001b[1;32m     54\u001b[0m         raise ValueError('Location values cannot contain NaNs, '\n\u001b[1;32m     55\u001b[0m                          'got:\\n{!r}'.format(coordinates))\n",
            "\u001b[0;32m/usr/local/lib/python3.6/dist-packages/folium/utilities.py\u001b[0m in \u001b[0;36m_isnan\u001b[0;34m(values)\u001b[0m\n\u001b[1;32m     77\u001b[0m \u001b[0;32mdef\u001b[0m \u001b[0m_isnan\u001b[0m\u001b[0;34m(\u001b[0m\u001b[0mvalues\u001b[0m\u001b[0;34m)\u001b[0m\u001b[0;34m:\u001b[0m\u001b[0;34m\u001b[0m\u001b[0;34m\u001b[0m\u001b[0m\n\u001b[1;32m     78\u001b[0m     \u001b[0;34m\"\"\"Check if there are NaNs values in the iterable.\"\"\"\u001b[0m\u001b[0;34m\u001b[0m\u001b[0;34m\u001b[0m\u001b[0m\n\u001b[0;32m---> 79\u001b[0;31m     \u001b[0;32mreturn\u001b[0m \u001b[0many\u001b[0m\u001b[0;34m(\u001b[0m\u001b[0mmath\u001b[0m\u001b[0;34m.\u001b[0m\u001b[0misnan\u001b[0m\u001b[0;34m(\u001b[0m\u001b[0mvalue\u001b[0m\u001b[0;34m)\u001b[0m \u001b[0;32mfor\u001b[0m \u001b[0mvalue\u001b[0m \u001b[0;32min\u001b[0m \u001b[0m_flatten\u001b[0m\u001b[0;34m(\u001b[0m\u001b[0mvalues\u001b[0m\u001b[0;34m)\u001b[0m\u001b[0;34m)\u001b[0m\u001b[0;34m\u001b[0m\u001b[0;34m\u001b[0m\u001b[0m\n\u001b[0m\u001b[1;32m     80\u001b[0m \u001b[0;34m\u001b[0m\u001b[0m\n\u001b[1;32m     81\u001b[0m \u001b[0;34m\u001b[0m\u001b[0m\n",
            "\u001b[0;32m/usr/local/lib/python3.6/dist-packages/folium/utilities.py\u001b[0m in \u001b[0;36m<genexpr>\u001b[0;34m(.0)\u001b[0m\n\u001b[1;32m     77\u001b[0m \u001b[0;32mdef\u001b[0m \u001b[0m_isnan\u001b[0m\u001b[0;34m(\u001b[0m\u001b[0mvalues\u001b[0m\u001b[0;34m)\u001b[0m\u001b[0;34m:\u001b[0m\u001b[0;34m\u001b[0m\u001b[0;34m\u001b[0m\u001b[0m\n\u001b[1;32m     78\u001b[0m     \u001b[0;34m\"\"\"Check if there are NaNs values in the iterable.\"\"\"\u001b[0m\u001b[0;34m\u001b[0m\u001b[0;34m\u001b[0m\u001b[0m\n\u001b[0;32m---> 79\u001b[0;31m     \u001b[0;32mreturn\u001b[0m \u001b[0many\u001b[0m\u001b[0;34m(\u001b[0m\u001b[0mmath\u001b[0m\u001b[0;34m.\u001b[0m\u001b[0misnan\u001b[0m\u001b[0;34m(\u001b[0m\u001b[0mvalue\u001b[0m\u001b[0;34m)\u001b[0m \u001b[0;32mfor\u001b[0m \u001b[0mvalue\u001b[0m \u001b[0;32min\u001b[0m \u001b[0m_flatten\u001b[0m\u001b[0;34m(\u001b[0m\u001b[0mvalues\u001b[0m\u001b[0;34m)\u001b[0m\u001b[0;34m)\u001b[0m\u001b[0;34m\u001b[0m\u001b[0;34m\u001b[0m\u001b[0m\n\u001b[0m\u001b[1;32m     80\u001b[0m \u001b[0;34m\u001b[0m\u001b[0m\n\u001b[1;32m     81\u001b[0m \u001b[0;34m\u001b[0m\u001b[0m\n",
            "\u001b[0;32m/usr/local/lib/python3.6/dist-packages/folium/utilities.py\u001b[0m in \u001b[0;36m_flatten\u001b[0;34m(container)\u001b[0m\n\u001b[1;32m     69\u001b[0m     \u001b[0;32mfor\u001b[0m \u001b[0mi\u001b[0m \u001b[0;32min\u001b[0m \u001b[0mcontainer\u001b[0m\u001b[0;34m:\u001b[0m\u001b[0;34m\u001b[0m\u001b[0;34m\u001b[0m\u001b[0m\n\u001b[1;32m     70\u001b[0m         \u001b[0;32mif\u001b[0m \u001b[0m_is_sized_iterable\u001b[0m\u001b[0;34m(\u001b[0m\u001b[0mi\u001b[0m\u001b[0;34m)\u001b[0m\u001b[0;34m:\u001b[0m\u001b[0;34m\u001b[0m\u001b[0;34m\u001b[0m\u001b[0m\n\u001b[0;32m---> 71\u001b[0;31m             \u001b[0;32mfor\u001b[0m \u001b[0mj\u001b[0m \u001b[0;32min\u001b[0m \u001b[0m_flatten\u001b[0m\u001b[0;34m(\u001b[0m\u001b[0mi\u001b[0m\u001b[0;34m)\u001b[0m\u001b[0;34m:\u001b[0m\u001b[0;34m\u001b[0m\u001b[0;34m\u001b[0m\u001b[0m\n\u001b[0m\u001b[1;32m     72\u001b[0m                 \u001b[0;32myield\u001b[0m \u001b[0mj\u001b[0m\u001b[0;34m\u001b[0m\u001b[0;34m\u001b[0m\u001b[0m\n\u001b[1;32m     73\u001b[0m         \u001b[0;32melse\u001b[0m\u001b[0;34m:\u001b[0m\u001b[0;34m\u001b[0m\u001b[0;34m\u001b[0m\u001b[0m\n",
            "... last 1 frames repeated, from the frame below ...\n",
            "\u001b[0;32m/usr/local/lib/python3.6/dist-packages/folium/utilities.py\u001b[0m in \u001b[0;36m_flatten\u001b[0;34m(container)\u001b[0m\n\u001b[1;32m     69\u001b[0m     \u001b[0;32mfor\u001b[0m \u001b[0mi\u001b[0m \u001b[0;32min\u001b[0m \u001b[0mcontainer\u001b[0m\u001b[0;34m:\u001b[0m\u001b[0;34m\u001b[0m\u001b[0;34m\u001b[0m\u001b[0m\n\u001b[1;32m     70\u001b[0m         \u001b[0;32mif\u001b[0m \u001b[0m_is_sized_iterable\u001b[0m\u001b[0;34m(\u001b[0m\u001b[0mi\u001b[0m\u001b[0;34m)\u001b[0m\u001b[0;34m:\u001b[0m\u001b[0;34m\u001b[0m\u001b[0;34m\u001b[0m\u001b[0m\n\u001b[0;32m---> 71\u001b[0;31m             \u001b[0;32mfor\u001b[0m \u001b[0mj\u001b[0m \u001b[0;32min\u001b[0m \u001b[0m_flatten\u001b[0m\u001b[0;34m(\u001b[0m\u001b[0mi\u001b[0m\u001b[0;34m)\u001b[0m\u001b[0;34m:\u001b[0m\u001b[0;34m\u001b[0m\u001b[0;34m\u001b[0m\u001b[0m\n\u001b[0m\u001b[1;32m     72\u001b[0m                 \u001b[0;32myield\u001b[0m \u001b[0mj\u001b[0m\u001b[0;34m\u001b[0m\u001b[0;34m\u001b[0m\u001b[0m\n\u001b[1;32m     73\u001b[0m         \u001b[0;32melse\u001b[0m\u001b[0;34m:\u001b[0m\u001b[0;34m\u001b[0m\u001b[0;34m\u001b[0m\u001b[0m\n",
            "\u001b[0;31mRecursionError\u001b[0m: maximum recursion depth exceeded in comparison"
          ]
        }
      ]
    },
    {
      "cell_type": "markdown",
      "metadata": {
        "id": "ipk7yU2PsPVX"
      },
      "source": [
        "# 3. Make subgroups to plot : Female / Male\n",
        "여성, 남성 감염자를 하위그룹으로 하여 따로다로 볼 수 있도록 지도를 그려본다."
      ]
    },
    {
      "cell_type": "code",
      "metadata": {
        "id": "4Ml9iKPesIgd"
      },
      "source": [
        "male_patient = regional_patient\\\n",
        ".query('sex in (\"male\")')[['latitude', 'longitude']].dropna()\n",
        "\n",
        "female_patient = regional_patient\\\n",
        ".query('sex in (\"female\")')[['latitude', 'longitude']].dropna()\n",
        "\n",
        "m = folium.Map(location = center, zoom_start = 7)\n",
        "\n",
        "initial = folium.plugins.MarkerCluster(control = False)\n",
        "\n",
        "m.add_child(initial)\n",
        "\n",
        "female_g = plugins.FeatureGroupSubGroup(initial, 'Female')\n",
        "m.add_child(female_g)\n",
        "\n",
        "male_g = plugins.FeatureGroupSubGroup(initial, 'Male')\n",
        "m.add_child(male_g)\n",
        "\n",
        "plugins.MarkerCluster(female_patient).add_to(female_g)\n",
        "plugins.MarkerCluster(male_patient).add_to(male_g)\n",
        "\n",
        "folium.LayerControl(collapsed = False).add_to(m)\n",
        "\n",
        "m"
      ],
      "execution_count": null,
      "outputs": []
    },
    {
      "cell_type": "markdown",
      "metadata": {
        "id": "43eagLlWua9Q"
      },
      "source": [
        ""
      ]
    },
    {
      "cell_type": "markdown",
      "metadata": {
        "id": "eu9ittYlulsN"
      },
      "source": [
        "# 4. Make a Heat map : Instead of the number\n",
        "\n",
        "지역별로 얼마나 많은 감염자가 있는지, 숫자로 보는 것이 아닌, heat map을 활용하여 시각적으로 나타내보겟다."
      ]
    },
    {
      "cell_type": "code",
      "metadata": {
        "id": "06gPEE0evYhd"
      },
      "source": [
        "folium.plugins.HeatMap(data, name=None, min_opacity=0.5, \n",
        "                       max_zoom=18, max_val=1.0, radius=25, blur=15, \n",
        "                       gradient=None, overlay=True, control=True, show=True, **kwargs)"
      ],
      "execution_count": null,
      "outputs": []
    },
    {
      "cell_type": "markdown",
      "metadata": {
        "id": "yj_aoHe3vKAW"
      },
      "source": [
        "- min_opacity (default 1.) – The minimum opacity the heat will start at.\n",
        "- max_zoom (default 18) – Zoom level where the points reach maximum intensity (as intensity scales with zoom), equals maxZoom of the map by default\n",
        "- max_val (float, default 1.) – Maximum point intensity\n",
        "- radius (int, default 25) – Radius of each “point” of the heatmap\n",
        "- blur (int, default 15) – Amount of blur\n",
        "- gradient (dict, default None) – Color gradient config. e.g. {0.4: ‘blue’, 0.65: ‘lime’, 1: ‘red’}\n",
        "- overlay (bool, default True) – Adds the layer as an optional overlay (True) or the base layer (False).\n",
        "- control (bool, default True) – Whether the Layer will be included in LayerControls.\n",
        "- show (bool, default True) – Whether the layer will be shown on opening (only for overlays)."
      ]
    },
    {
      "cell_type": "markdown",
      "metadata": {
        "id": "cm7KDOJpbAAN"
      },
      "source": [
        "##### Heatmap parameter"
      ]
    },
    {
      "cell_type": "code",
      "metadata": {
        "id": "4Lpm20-7o8FK",
        "colab": {
          "base_uri": "https://localhost:8080/",
          "height": 394
        },
        "outputId": "aa07dedc-f769-4dd3-abd8-b7c96a8e18cd"
      },
      "source": [
        "heat_data = regional_patient\\\n",
        ".groupby(['latitude', 'longitude'])['patient_id'].count().reset_index().values.tolist()\n",
        "\n",
        "m = folium.Map(location = center, zoom_start = 7) \n",
        "\n",
        "folium.plugins.HeatMap(heat_data).add_to(m)\n",
        "m"
      ],
      "execution_count": null,
      "outputs": [
        {
          "output_type": "execute_result",
          "data": {
            "text/html": [
              "<div style=\"width:100%;\"><div style=\"position:relative;width:100%;height:0;padding-bottom:60%;\"><span style=\"color:#565656\">Make this Notebook Trusted to load map: File -> Trust Notebook</span><iframe src=\"about:blank\" style=\"position:absolute;width:100%;height:100%;left:0;top:0;border:none !important;\" data-html=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 onload=\"this.contentDocument.open();this.contentDocument.write(atob(this.getAttribute('data-html')));this.contentDocument.close();\" allowfullscreen webkitallowfullscreen mozallowfullscreen></iframe></div></div>"
            ],
            "text/plain": [
              "<folium.folium.Map at 0x7f12c8c167b8>"
            ]
          },
          "metadata": {
            "tags": []
          },
          "execution_count": 19
        }
      ]
    },
    {
      "cell_type": "code",
      "metadata": {
        "id": "eYM3DcGeoAT7"
      },
      "source": [
        "heat_data = region[['latitude', 'longitude', 'nursing_home_count']].values.tolist() # nursing home count\n",
        "\n",
        "mark_data = regional_patient[['latitude', 'longitude']].dropna() # drop missing values\n",
        "\n",
        "m = folium.Map(location = center, zoom_start = 7)\n",
        "\n",
        "plugins.MarkerCluster(mark_data).add_to(m) # 통계량 표시\n",
        "\n",
        "folium.plugins.HeatMap(heat_data, max_opacity = 0.3).add_to(m)"
      ],
      "execution_count": null,
      "outputs": []
    },
    {
      "cell_type": "markdown",
      "metadata": {
        "id": "EvS344fZo_a8"
      },
      "source": [
        "# 5. Heatmap with time : time series heat map"
      ]
    },
    {
      "cell_type": "code",
      "metadata": {
        "id": "pInzMOtso9yt"
      },
      "source": [
        "folium.plugins.HeatMapWithTime(data, index = None, name = None,\n",
        "                               radius = 15, min_opacity = 0,\n",
        "                               max_opacity = 0.6, scale_radius=False, gradient=None, \n",
        "                               use_local_extrema=False, auto_play=False, \n",
        "                               display_index=True, index_steps=1, min_speed=0.1, \n",
        "                               max_speed=10, speed_step=0.1, position='bottomleft', \n",
        "                               overlay=True, control=True, show=True)\n",
        "                               "
      ],
      "execution_count": null,
      "outputs": []
    },
    {
      "cell_type": "markdown",
      "metadata": {
        "id": "TmVHtmVIpbkX"
      },
      "source": [
        "Parameter what i find important"
      ]
    },
    {
      "cell_type": "markdown",
      "metadata": {
        "id": "IW-HuDjUpkyn"
      },
      "source": [
        "data – The points you want to plot. The outer list corresponds to the various time steps in sequential order. (weight is in (0, 1] range and defaults to 1 if not specified for a point)\n",
        "\n",
        "index  – the same length as data, or is replaced by a simple count if not specified.\n",
        "\n",
        "radius (default 15.) – The radius used around points for the heatmap.\n",
        "\n",
        "min_opacity (default 0) – The minimum opacity for the heatmap.\n",
        "\n",
        "max_opacity (default 0.6) – The maximum opacity for the heatmap.\n",
        "\n",
        "scale_radius (default False) – Scale the radius of the points based on the zoom level.\n",
        "\n",
        "auto_play (default False) – Automatically play the animation across time.\n"
      ]
    },
    {
      "cell_type": "code",
      "metadata": {
        "id": "jNxIYVj_qFax"
      },
      "source": [
        "#prepare data\n",
        "\n",
        "regional_patient_bytime = regional_patient\\\n",
        ".groupby(['confirmed_date', 'latitude', 'longitude'])['patient_id'].count().reset_index()\\\n",
        ".sort_values(by = 'confirmed_date')\n",
        "\n",
        "# data_range : 함수를 쓰면 날짜/시간을 나타내는 문자열을 자동으로 datetime 자료형으로 바꾼 후 DatetimeIndex 자료형 인덱스를 생성한다.\n",
        "date_rng = pd.date_range(regional_patient_bytime['confirmed_date'].min(), regional_patient_bytime['confirmed_date'].max())\n",
        "date_rng = [str(i)[:10] for i in date_rng]\n",
        "\n",
        "# numpy.repeat 함수는 어레이의 요소들을 지정한 횟수만큼 반복한다.\n",
        "# numpy.tile 함수는 어레이를 (타일과 같이) 지정한 횟수만큼 반복한다.\n",
        "all_date_region = pd.DataFrame({'confirmed_date': np.repeat(date_rng, region[['latitude', 'longitude']].drop_duplicates().shape[0]),\n",
        "                                'latitude': np.tile(list(region['latitude'].drop_duplicates()), len(date_rng)),\n",
        "                                'longitude': np.tile(list(region['longitude'].drop_duplicaties()), len(date_rng))})\n",
        "\n",
        "all_date_region = pd.merge(all_date_region, regional_patient_bytime, on = ['confirmed_date', 'latitude', 'longitude'], how = 'left').fillna(0)\n",
        "all_date_region['cumsum'] = all_date_region.groupby(['latitude', 'longitude'])['patient_id'].cumsum() #  cumsum은 배열에서 주어진 축에 따라 누적되는 원소들의 누적 합을 계산하는 함수\n",
        "\n",
        "all_date_region = all_date_region[all_date_region['cumsum'] != 0]\n",
        "\n",
        "time_index, data = [], []\n",
        " # query를 [column] 대신 굳이 사용하는 이유는 방대한 데이터를 빠르게 처리할 수 있음이다.\n",
        "for date in all_date_region['confirmed_date'].unique():\n",
        "  time_index += [date[6:0].replace('-', '/')]\n",
        "  time_list = all_date_region.query('confirmed_date == @date')[['latitude', 'longitude', 'cumsum']].values.tolist()\n",
        "  data += [temp_list]\n",
        "  del temp_list"
      ],
      "execution_count": null,
      "outputs": []
    },
    {
      "cell_type": "markdown",
      "metadata": {
        "id": "gbx2V3lnpqmU"
      },
      "source": [
        "HeatMapWithTime needs this type of input data"
      ]
    },
    {
      "cell_type": "code",
      "metadata": {
        "id": "c5yGq5IrpXUN",
        "colab": {
          "base_uri": "https://localhost:8080/",
          "height": 172
        },
        "outputId": "e1405ee1-b750-40ef-ce0c-68321398121f"
      },
      "source": [
        "data[:5], time_index[:5]"
      ],
      "execution_count": null,
      "outputs": [
        {
          "output_type": "error",
          "ename": "NameError",
          "evalue": "ignored",
          "traceback": [
            "\u001b[0;31m---------------------------------------------------------------------------\u001b[0m",
            "\u001b[0;31mNameError\u001b[0m                                 Traceback (most recent call last)",
            "\u001b[0;32m<ipython-input-24-d2170d8712e6>\u001b[0m in \u001b[0;36m<module>\u001b[0;34m()\u001b[0m\n\u001b[0;32m----> 1\u001b[0;31m \u001b[0mdata\u001b[0m\u001b[0;34m[\u001b[0m\u001b[0;34m:\u001b[0m\u001b[0;36m5\u001b[0m\u001b[0;34m]\u001b[0m\u001b[0;34m,\u001b[0m \u001b[0mtime_index\u001b[0m\u001b[0;34m[\u001b[0m\u001b[0;34m:\u001b[0m\u001b[0;36m5\u001b[0m\u001b[0;34m]\u001b[0m\u001b[0;34m\u001b[0m\u001b[0;34m\u001b[0m\u001b[0m\n\u001b[0m",
            "\u001b[0;31mNameError\u001b[0m: name 'data' is not defined"
          ]
        }
      ]
    },
    {
      "cell_type": "code",
      "metadata": {
        "id": "h-qA06NVdG-g"
      },
      "source": [
        "# make a map\n",
        "\n",
        "m = folium.Map([36, 128], zoom_start = 7) #, tiles = 'Mapbox Bright')\n",
        "\n",
        "hm = folium.plugins.HeatMapWithTime(data, index = time_index, auto_play = False, min_opacity = 0.3, radius = 25, )\n",
        "\n",
        "hm.add_to(m)\n",
        "\n",
        "for bottom, click in zip([60, 90, 120, 150, 180], ['Loop', 'Forward', 'Play', 'Reverse', 'Backward']):\n",
        "\n",
        "  # Thank you for html code. https://www.kaggle.com/poonsfc5/ds4c-covid-19-in-korea-eda-with-geo-data\n",
        "\n",
        "   name = '''\n",
        "            <div style=\"position: fixed; bottom: '''+str(bottom)+'''px; left: 50px; width: 100px; height: 29px; \n",
        "                        background-color: white; border:1px solid grey; z-index:9999; font-size:11px;text-align:center;\"\n",
        "                        >&nbsp; <br><b>Click : '''+ click +'''</b></div>'''  \n",
        "\n",
        "    m.get_root().html.add_child(folium.Element(name))\n",
        "\n",
        "m\n"
      ],
      "execution_count": null,
      "outputs": []
    },
    {
      "cell_type": "markdown",
      "metadata": {
        "id": "Eq_AFRnqeTRD"
      },
      "source": [
        "# 6. Make Circles with timebar : Timestramped Geojson"
      ]
    },
    {
      "cell_type": "code",
      "metadata": {
        "id": "JraRbuxCePzu"
      },
      "source": [
        "TimestrampedGeoJson(data, transition_time = 200, loop = True, auto_play = True,\n",
        "                    add_last_point = True, period = 'P1D', min_speed = 0.1, max_speed = 10,\n",
        "                    loop_button = False, date_options = 'YYYY-MM-DD HH:mm:ss',\n",
        "                    time_slider_drag_update = Falsem duration = None)"
      ],
      "execution_count": null,
      "outputs": []
    },
    {
      "cell_type": "markdown",
      "metadata": {
        "id": "idd_4Z36fG7S"
      },
      "source": [
        "parameter i find important"
      ]
    },
    {
      "cell_type": "markdown",
      "metadata": {
        "id": "5fahCO6gfMdM"
      },
      "source": [
        "period (str, default \"P1D\") –  ‘P1M’ 1/month, ‘P1D’ 1/day, ‘PT1H’ 1/hour, and ‘PT1M’ 1/minute"
      ]
    },
    {
      "cell_type": "code",
      "metadata": {
        "id": "qOuuPNYkfGB5"
      },
      "source": [
        "# prepare data\n",
        "df_dropna = regional_patient.dropna()\n",
        "df_dropna['timestamp'] = [i+'T00:00:00' for i in df_dropna['confirmed_date']]\n",
        "\n",
        "points = []\n",
        "for date in sorted(df_dropna['confirmed_date'].unique()):\n",
        "  temp = df_dropna.query('confiremd_date == @date')\n",
        "\n",
        "  temp_dict = {}\n",
        "  temp_dict['coordinates'] = temp[['longitude', 'latitude']].values.tolist()\n",
        "\n",
        "  points += [temp_dict]\n",
        "\n",
        "features = [ { 'type': 'Feature', \n",
        "                  'geometry': { 'type': 'MultiPoint', \n",
        "                               'coordinates': point['coordinates'], }, \n",
        "                  'properties': { 'times': point['dates'],\n",
        "                                 'icon' : 'circle'}\n",
        "             } for point in points ] "
      ],
      "execution_count": null,
      "outputs": []
    },
    {
      "cell_type": "markdown",
      "metadata": {
        "id": "qx9ZKrRbraBK"
      },
      "source": [
        "TimestampedGeoJson needs this type of input data."
      ]
    },
    {
      "cell_type": "code",
      "metadata": {
        "id": "GnVfYeKIrUqx"
      },
      "source": [
        "features[:3]"
      ],
      "execution_count": null,
      "outputs": []
    },
    {
      "cell_type": "code",
      "metadata": {
        "id": "kQJPmH6CpzW9"
      },
      "source": [
        "m = folium.Map( location=[36, 128], zoom_start=7 )\n",
        "\n",
        "plugins.TimestampedGeoJson({ \n",
        "    'type': 'FeatureCollection', \n",
        "    'features': features, \n",
        "}, period='P1D', auto_play = False).add_to(m)\n",
        "\n",
        "m"
      ],
      "execution_count": null,
      "outputs": []
    }
  ]
}